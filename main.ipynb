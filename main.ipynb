{
 "cells": [
  {
   "cell_type": "code",
   "execution_count": null,
   "id": "1bae4f95-d4c0-4f41-805c-560a1df1c43f",
   "metadata": {},
   "outputs": [],
   "source": [
    "# Import Key Libraries\n",
    "import pandas as pd #dataframe manipulation\n",
    "import numpy as np #numerical analysis\n",
    "import matplotlib.pyplot as plt \n",
    "import seaborn as sns\n",
    "\n",
    "\n",
    "from jupyterthemes import jtplot\n",
    "jtplot.style(theme='monokai', context='notebook', ticks=True, grid=False) \n",
    "# setting the style of the notebook to be monokai theme  \n",
    "# this line of code is important to ensure that we are able to see the x and y axes clearly\n",
    "# If you don't run this code line, you will notice that the xlabel and ylabel on any plot is black on black and it will be hard to see them. \n"
   ]
  },
  {
   "cell_type": "code",
   "execution_count": null,
   "id": "cf44c869-4de4-4090-b5d7-076f97249c39",
   "metadata": {},
   "outputs": [],
   "source": [
    "# Read the data using pandas dataframe\n",
    "titanic_df = pd.read_csv('titanic.csv')"
   ]
  },
  {
   "cell_type": "code",
   "execution_count": null,
   "id": "7b2d851f-88e5-42da-a6a7-af9cbaeafdf9",
   "metadata": {},
   "outputs": [],
   "source": [
    "# Show the data head!\n",
    "titanic_df.head()\n"
   ]
  },
  {
   "cell_type": "code",
   "execution_count": null,
   "id": "2308412b-4149-42b4-9262-95fad3431e8d",
   "metadata": {},
   "outputs": [],
   "source": [
    "# Let's count the number of survivors and non-survivors\n",
    "survived_df = titanic_df[titanic_df['Survived'] == 1]\n",
    "no_survived_df = titanic_df[titanic_df['Survived'] == 0]\n"
   ]
  },
  {
   "cell_type": "code",
   "execution_count": null,
   "id": "5405a03f-fa39-45be-a3d3-5e72a6911bd4",
   "metadata": {},
   "outputs": [],
   "source": [
    "survived_df"
   ]
  },
  {
   "cell_type": "code",
   "execution_count": null,
   "id": "0d638294-5d2c-4862-a2a5-e0fee2e5ec61",
   "metadata": {},
   "outputs": [],
   "source": [
    "# Count the survived and deceased \n",
    "print(\"Total =\", len(titanic_df))\n",
    "\n",
    "print(\"Number of passengers who survived =\", len(survived_df))\n",
    "print(\"Percentage Survived =\", 1. * len(survived_df) / len(titanic_df) * 100.0, \"%\")\n",
    " \n",
    "print(\"Number of passengers who did not Survive =\", len(no_survived_df))\n",
    "print(\"Percentage who did not survive =\", 1. * len(no_survived_df) / len(titanic_df) * 100.0, \"%\")\n",
    "         "
   ]
  },
  {
   "cell_type": "code",
   "execution_count": null,
   "id": "ea649e9f-0c4f-4246-807a-3697e1c429ee",
   "metadata": {},
   "outputs": [],
   "source": [
    "# Bar Chart to indicate the number of people who survived based on their class\n",
    "# If you are a first class, you have a higher chance of survival\n",
    "plt.figure(figsize = [15,10])\n",
    "plt.subplot(211)\n",
    "sns.countplot(x = 'Pclass',data = titanic_df)\n",
    "\n",
    "plt.subplot(212)\n",
    "sns.countplot(x = 'Pclass',hue = 'Survived',data = titanic_df)"
   ]
  },
  {
   "cell_type": "code",
   "execution_count": null,
   "id": "4ae99f4e-f857-4d48-afd9-fb03c8b6cb98",
   "metadata": {},
   "outputs": [],
   "source": [
    "plt.figure(figsize = [15,10])\n",
    "plt.subplot(211)\n",
    "sns.countplot(x = 'SibSp',data = titanic_df)\n",
    "\n",
    "plt.subplot(212)\n",
    "sns.countplot(x = 'SibSp' , hue = 'Survived' ,data = titanic_df)"
   ]
  },
  {
   "cell_type": "code",
   "execution_count": null,
   "id": "ad44ddac-912e-4c26-b213-3075b3469dfd",
   "metadata": {},
   "outputs": [],
   "source": [
    "# Bar Chart to indicate the number of people survived based on their Parch status (how many parents onboard)\n",
    "# If you have 1, 2, or 3 family members (Parch = 1,2), you have a higher chance of survival compared to being alone (Parch = 0)\n",
    "plt.figure(figsize = [15, 10])\n",
    "plt.subplot(211)\n",
    "sns.countplot(x = 'Parch',data = titanic_df)\n",
    "\n",
    "plt.subplot(212)\n",
    "sns.countplot(x = 'Parch',hue = 'Survived',data = titanic_df)"
   ]
  },
  {
   "cell_type": "code",
   "execution_count": null,
   "id": "d0e18741-b1e0-4ce0-9628-0c9206c7c2df",
   "metadata": {},
   "outputs": [],
   "source": [
    "# Bar Chart to indicate the number of people survived based on their sex\n",
    "# If you are a female, you have a higher chance of survival compared to other ports!\n",
    "plt.figure(figsize = [15, 10])\n",
    "plt.subplot(211)\n",
    "sns.countplot(x = 'Sex', data = titanic_df)\n",
    "plt.subplot(212)\n",
    "sns.countplot(x = 'Sex', hue = 'Survived', data = titanic_df)"
   ]
  },
  {
   "cell_type": "code",
   "execution_count": null,
   "id": "089a4fd2-ed98-43fc-85a1-ca559c383dd9",
   "metadata": {},
   "outputs": [],
   "source": [
    " # Age Histogram \n",
    "plt.figure(figsize = [11,6])\n",
    "titanic_df['Age'].hist(bins = 40)"
   ]
  },
  {
   "cell_type": "code",
   "execution_count": null,
   "id": "e4d6248e-c350-4275-a80d-4a43935178e0",
   "metadata": {},
   "outputs": [],
   "source": [
    "# Let's explore which dataset is missing\n",
    "sns.heatmap(titanic_df.isnull(), yticklabels = False, cbar = False, cmap=\"Blues\")\n",
    "#plot heatmap (color blue indicates missing value)"
   ]
  },
  {
   "cell_type": "code",
   "execution_count": null,
   "id": "07da0cba-3ffc-4c73-9cc0-17833a7f7ae3",
   "metadata": {},
   "outputs": [],
   "source": [
    "# Let's drop the cabin coloumn(since it has too many missing values) and test with inplace = true and false\n",
    "titanic_df.drop('Cabin',axis = 1,inplace = True)"
   ]
  },
  {
   "cell_type": "code",
   "execution_count": null,
   "id": "bad9a8b0-c1bb-4e73-a14f-bf84646f39d1",
   "metadata": {},
   "outputs": [],
   "source": [
    "# Let's drop the embarked, Ticket, passengerID, and Name as well\n",
    "titanic_df.drop(['Name', 'Ticket', 'Embarked', 'PassengerId'], axis = 1, inplace = True)"
   ]
  },
  {
   "cell_type": "code",
   "execution_count": null,
   "id": "36c13b06-eca4-4f77-99ac-26c80bcf24d3",
   "metadata": {},
   "outputs": [],
   "source": [
    "titanic_df"
   ]
  },
  {
   "cell_type": "code",
   "execution_count": null,
   "id": "a425329f-ac59-4e9c-97f2-f76cce91111d",
   "metadata": {},
   "outputs": [],
   "source": [
    "# Let's view the data one more time!\n",
    "sns.heatmap(titanic_df.isnull(), yticklabels = False, cbar = False, cmap=\"Blues\")\n"
   ]
  },
  {
   "cell_type": "code",
   "execution_count": null,
   "id": "b03034a9-a869-42de-851a-fbe7616d35c6",
   "metadata": {},
   "outputs": [],
   "source": [
    "# Let's get the average age for male (~29) and female (~25)\n",
    "plt.figure(figsize=(15, 10))\n",
    "sns.boxplot(x = 'Sex', y = 'Age', data = titanic_df)"
   ]
  },
  {
   "cell_type": "code",
   "execution_count": null,
   "id": "82d10a77-6452-4625-af56-0485e8865bc4",
   "metadata": {},
   "outputs": [],
   "source": [
    "def Fill_Age(data):\n",
    "    age = data[0]\n",
    "    sex = data[1]\n",
    "\n",
    "    if pd.isnull(age):\n",
    "        if sex is 'male': \n",
    "            return 29\n",
    "        else:\n",
    "            return 25\n",
    "    else:\n",
    "        return age\n",
    "        "
   ]
  },
  {
   "cell_type": "code",
   "execution_count": null,
   "id": "e943f601-9329-46f6-aaa2-1939b4734463",
   "metadata": {},
   "outputs": [],
   "source": [
    "titanic_df['Age'] = titanic_df[['Age','Sex']].apply(Fill_Age,axis = 1)"
   ]
  },
  {
   "cell_type": "code",
   "execution_count": null,
   "id": "e871fdf8-1107-4171-bcdb-690849caa0a1",
   "metadata": {},
   "outputs": [],
   "source": [
    "# Let's view the data one more time!\n",
    "sns.heatmap(titanic_df.isnull(), yticklabels = False, cbar = False, cmap=\"Blues\")\n"
   ]
  },
  {
   "cell_type": "code",
   "execution_count": null,
   "id": "1154cc77-0eb0-4eee-b8f9-de53711a3aa7",
   "metadata": {},
   "outputs": [],
   "source": [
    "# You just need one column only to represent male or female\n",
    "pd.get_dummies(titanic_df['Sex'])"
   ]
  },
  {
   "cell_type": "code",
   "execution_count": null,
   "id": "0b415ac4-ad29-4beb-9144-af8af320c08e",
   "metadata": {},
   "outputs": [],
   "source": [
    "male = pd.get_dummies(titanic_df['Sex'], drop_first = True)\n"
   ]
  },
  {
   "cell_type": "code",
   "execution_count": null,
   "id": "3a1dc036-6f69-4d93-8e3a-3ce7e2b53174",
   "metadata": {},
   "outputs": [],
   "source": [
    "# first let's drop the embarked and sex \n",
    "titanic_df.drop(['Sex'], axis = 1, inplace = True)\n",
    "titanic_df"
   ]
  },
  {
   "cell_type": "code",
   "execution_count": null,
   "id": "de78cf7c-d9c8-4a41-b2af-402c1a27d552",
   "metadata": {},
   "outputs": [],
   "source": [
    "# Now let's add the encoded column male again\n",
    "titanic_df = pd.concat([titanic_df, male], axis = 1)\n",
    "titanic_df"
   ]
  },
  {
   "cell_type": "code",
   "execution_count": null,
   "id": "68d3c8ec-6a40-4cab-a71c-ad255ba02c2a",
   "metadata": {},
   "outputs": [],
   "source": [
    "#Let's drop the target coloumn before we do train test split\n",
    "X = titanic_df.drop('Survived', axis = 1).values\n",
    "y = titanic_df['Survived'].values\n"
   ]
  },
  {
   "cell_type": "code",
   "execution_count": null,
   "id": "0e752f8c-f5df-42f1-a49a-34bb2090012a",
   "metadata": {},
   "outputs": [],
   "source": [
    "from sklearn.model_selection import train_test_split\n",
    "X_train, X_test, y_train, y_test = train_test_split(X, y, test_size=0.2, random_state=10)"
   ]
  },
  {
   "cell_type": "code",
   "execution_count": null,
   "id": "2d550b2b-a600-4758-8442-b10aa8329331",
   "metadata": {},
   "outputs": [],
   "source": [
    "# Fitting Logistic Regression to the Training set\n",
    "from sklearn.linear_model import LogisticRegression\n",
    "classifier = LogisticRegression(random_state = 0)\n",
    "classifier.fit(X_train,y_train)"
   ]
  },
  {
   "cell_type": "code",
   "execution_count": null,
   "id": "9cca3391-cbbb-4d44-8e4f-cf347792b927",
   "metadata": {},
   "outputs": [],
   "source": [
    "y_predict_test = classifier.predict(X_test)\n",
    "y_predict_test"
   ]
  },
  {
   "cell_type": "code",
   "execution_count": null,
   "id": "e6446d82-3a62-49ec-9e44-c987f5237794",
   "metadata": {},
   "outputs": [],
   "source": [
    "from sklearn.metrics import confusion_matrix\n",
    "\n",
    "cm = confusion_matrix(y_test, y_predict_test)\n",
    "sns.heatmap(cm, annot = True, fmt = \"d\")"
   ]
  },
  {
   "cell_type": "code",
   "execution_count": null,
   "id": "ef486593-e0c9-4345-8236-7d8a7406259d",
   "metadata": {},
   "outputs": [],
   "source": [
    "from sklearn.metrics import classification_report\n",
    "print(classification_report(y_test, y_predict_test))"
   ]
  },
  {
   "cell_type": "code",
   "execution_count": null,
   "id": "68afecc7-e1af-419d-a4ef-c262abba7348",
   "metadata": {},
   "outputs": [],
   "source": [
    "from sklearn.naive_bayes import GaussianNB\n",
    "\n",
    "# Build a Gaussian Classifier\n",
    "model = GaussianNB()\n",
    "\n",
    "# Model training\n",
    "model.fit(X_train, y_train)\n",
    "\n",
    "# Predict Output\n",
    "predicted = model.predict(X_test)\n",
    "\n"
   ]
  },
  {
   "cell_type": "code",
   "execution_count": null,
   "id": "311c8e19-3422-435c-8c6c-335a403fe443",
   "metadata": {},
   "outputs": [],
   "source": [
    "cm_naive = confusion_matrix(y_test,predicted)\n",
    "sns.heatmap(cm,annot = True)\n",
    "\n",
    "print(classification_report(y_test, y_predict_test))"
   ]
  },
  {
   "cell_type": "code",
   "execution_count": null,
   "id": "1859984d-f92b-4e30-8088-7802ef698a3d",
   "metadata": {},
   "outputs": [],
   "source": [
    "#approach 2\n",
    "from sklearn.naive_bayes import MultinomialNB\n",
    "classifier = MultinomialNB()\n",
    "classifier.fit(X_train, y_train)"
   ]
  },
  {
   "cell_type": "code",
   "execution_count": null,
   "id": "c0c25775-77ed-473b-afc8-43d0b80d9aa0",
   "metadata": {},
   "outputs": [],
   "source": [
    "y_predict_test = classifier.predict(X_test)\n",
    "y_predict_test\n",
    "\n",
    "cm = confusion_matrix(y_test, y_predict_test)\n",
    "sns.heatmap(cm, annot = True, fmt = \"d\")\n",
    "\n",
    "print(classification_report(y_test, y_predict_test))"
   ]
  }
 ],
 "metadata": {
  "kernelspec": {
   "display_name": "Python 3 (ipykernel)",
   "language": "python",
   "name": "python3"
  },
  "language_info": {
   "codemirror_mode": {
    "name": "ipython",
    "version": 3
   },
   "file_extension": ".py",
   "mimetype": "text/x-python",
   "name": "python",
   "nbconvert_exporter": "python",
   "pygments_lexer": "ipython3",
   "version": "3.12.4"
  }
 },
 "nbformat": 4,
 "nbformat_minor": 5
}
